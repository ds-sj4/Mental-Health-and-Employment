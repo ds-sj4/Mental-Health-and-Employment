{
 "cells": [
  {
   "cell_type": "code",
   "execution_count": 2,
   "id": "9eef50ab-5ebb-40d9-85eb-a148e14358ce",
   "metadata": {},
   "outputs": [],
   "source": [
    "import pandas as pd\n",
    "import numpy as np\n",
    "from sklearn.preprocessing import MinMaxScaler\n",
    "import seaborn as sns\n",
    "import matplotlib.pyplot as plt\n",
    "from sklearn.cluster import KMeans"
   ]
  },
  {
   "cell_type": "code",
   "execution_count": 3,
   "id": "13a4e1d3-bf11-4625-a759-82da9c502c25",
   "metadata": {},
   "outputs": [],
   "source": [
    "# Reading the mental health csv file as a dataframe\n",
    "df_mh = pd.read_csv('Mental_Health_Borough.csv', encoding='UTF-8')"
   ]
  },
  {
   "cell_type": "code",
   "execution_count": 5,
   "id": "0ac9edb4-1407-430f-ae76-c97c6d7bc952",
   "metadata": {},
   "outputs": [],
   "source": [
    "# Reading qualification data\n",
    "df_qual = pd.read_csv('Economically-active-qualification-borough.csv', encoding='UTF-8')"
   ]
  },
  {
   "cell_type": "code",
   "execution_count": 6,
   "id": "31e50461-0bb3-446f-acfc-5a136bd8cb27",
   "metadata": {},
   "outputs": [],
   "source": [
    "# Merging dataframes\n",
    "df = pd.merge(df_qual, df_mh, how='inner', on = 'Area')"
   ]
  },
  {
   "cell_type": "code",
   "execution_count": null,
   "id": "7104c638-22d2-47f8-8acd-a9b2d0c687cc",
   "metadata": {},
   "outputs": [],
   "source": []
  }
 ],
 "metadata": {
  "kernelspec": {
   "display_name": "Python 3 (ipykernel)",
   "language": "python",
   "name": "python3"
  },
  "language_info": {
   "codemirror_mode": {
    "name": "ipython",
    "version": 3
   },
   "file_extension": ".py",
   "mimetype": "text/x-python",
   "name": "python",
   "nbconvert_exporter": "python",
   "pygments_lexer": "ipython3",
   "version": "3.9.12"
  }
 },
 "nbformat": 4,
 "nbformat_minor": 5
}
